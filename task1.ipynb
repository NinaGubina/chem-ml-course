{
 "cells": [
  {
   "attachments": {},
   "cell_type": "markdown",
   "metadata": {},
   "source": [
    "**Задание:** Написать скрипт градиентного спуска для многочлена из примера. Для этого выписать и задать в явном виде производные по параметрам θ. Решение должно учитывать начальное приближение θ°, шаг градиентного спуска η и количество шагов минимизации"
   ]
  },
  {
   "cell_type": "code",
   "execution_count": 1,
   "metadata": {},
   "outputs": [],
   "source": [
    "# импортируем библиотеки\n",
    "import numpy as np\n",
    "from sympy import *"
   ]
  },
  {
   "cell_type": "code",
   "execution_count": 2,
   "metadata": {},
   "outputs": [],
   "source": [
    "# зададим переменные\n",
    "x, θ0, θ1, θ2 = symbols('x θ0 θ1 θ2')"
   ]
  },
  {
   "cell_type": "code",
   "execution_count": 3,
   "metadata": {},
   "outputs": [
    {
     "data": {
      "text/latex": [
       "$\\displaystyle x^{2} θ_{0} + x θ_{1} + θ_{2}$"
      ],
      "text/plain": [
       "x**2*θ0 + x*θ1 + θ2"
      ]
     },
     "execution_count": 3,
     "metadata": {},
     "output_type": "execute_result"
    }
   ],
   "source": [
    "# зададим многочлен\n",
    "function = θ0 * x**2 + θ1 * x + θ2\n",
    "function"
   ]
  },
  {
   "cell_type": "code",
   "execution_count": 4,
   "metadata": {},
   "outputs": [
    {
     "data": {
      "text/latex": [
       "$\\displaystyle \\left(1 - θ_{0}\\right)^{2} + \\left(- 4 θ_{0} - 2 θ_{1} - θ_{2} + 5\\right)^{2} + \\left(- θ_{0} - θ_{1} - θ_{2} + 2\\right)^{2}$"
      ],
      "text/plain": [
       "(1 - θ0)**2 + (-4*θ0 - 2*θ1 - θ2 + 5)**2 + (-θ0 - θ1 - θ2 + 2)**2"
      ]
     },
     "execution_count": 4,
     "metadata": {},
     "output_type": "execute_result"
    }
   ],
   "source": [
    "# зададим функцию потерь\n",
    "loss_function = (1 - θ0)**2 + (2 - θ0 - θ1 - θ2)**2 + (5 - 4 * θ0 - 2 * θ1 - θ2)**2\n",
    "loss_function"
   ]
  },
  {
   "cell_type": "code",
   "execution_count": 5,
   "metadata": {},
   "outputs": [],
   "source": [
    "# рассчитаем производные\n",
    "derivative_θ0 = diff(loss_function, θ0)\n",
    "derivative_θ1 = diff(loss_function, θ1)\n",
    "derivative_θ2 = diff(loss_function, θ2)"
   ]
  },
  {
   "cell_type": "code",
   "execution_count": 6,
   "metadata": {},
   "outputs": [
    {
     "data": {
      "text/latex": [
       "$\\displaystyle 36 θ_{0} + 18 θ_{1} + 10 θ_{2} - 46$"
      ],
      "text/plain": [
       "36*θ0 + 18*θ1 + 10*θ2 - 46"
      ]
     },
     "execution_count": 6,
     "metadata": {},
     "output_type": "execute_result"
    }
   ],
   "source": [
    "# производная по θ0\n",
    "derivative_θ0"
   ]
  },
  {
   "cell_type": "code",
   "execution_count": 7,
   "metadata": {},
   "outputs": [
    {
     "data": {
      "text/latex": [
       "$\\displaystyle 18 θ_{0} + 10 θ_{1} + 6 θ_{2} - 24$"
      ],
      "text/plain": [
       "18*θ0 + 10*θ1 + 6*θ2 - 24"
      ]
     },
     "execution_count": 7,
     "metadata": {},
     "output_type": "execute_result"
    }
   ],
   "source": [
    "# производная по θ1\n",
    "derivative_θ1"
   ]
  },
  {
   "cell_type": "code",
   "execution_count": 8,
   "metadata": {},
   "outputs": [
    {
     "data": {
      "text/latex": [
       "$\\displaystyle 10 θ_{0} + 6 θ_{1} + 4 θ_{2} - 14$"
      ],
      "text/plain": [
       "10*θ0 + 6*θ1 + 4*θ2 - 14"
      ]
     },
     "execution_count": 8,
     "metadata": {},
     "output_type": "execute_result"
    }
   ],
   "source": [
    "# производная по θ2\n",
    "derivative_θ2"
   ]
  },
  {
   "cell_type": "code",
   "execution_count": 9,
   "metadata": {},
   "outputs": [],
   "source": [
    "# зададим функцию для градиентного спуска\n",
    "\n",
    "def gradient_descent(loss_function, θ_start, η, steps):\n",
    "    \n",
    "    θ = np.array(θ_start)\n",
    "    \n",
    "    # рассчитаем производные\n",
    "    derivatives = [diff(loss_function, θ0), diff(loss_function, θ1), diff(loss_function, θ2)]\n",
    "    \n",
    "    # введем цикл, которые выполняется 'steps' раз\n",
    "    for step in range(steps):\n",
    "\n",
    "        # рассчитаем градиент \n",
    "        gradient = np.array([derivatives[i].subs([(θ0, θ[0]),(θ1, θ[1]),(θ2, θ[2])]) for i in range(3)])\n",
    "        \n",
    "        step = -η * gradient\n",
    "        \n",
    "        θ = θ + step\n",
    "\n",
    "    return θ[0], θ[1], θ[2]"
   ]
  },
  {
   "cell_type": "code",
   "execution_count": 14,
   "metadata": {},
   "outputs": [],
   "source": [
    "# применим функцию\n",
    "optimal_θ = gradient_descent(loss_function, [0, 0, 0], 0.001, 10000)"
   ]
  },
  {
   "cell_type": "code",
   "execution_count": 15,
   "metadata": {},
   "outputs": [
    {
     "name": "stdout",
     "output_type": "stream",
     "text": [
      "θ0: 0.942998597374863\n",
      "θ1: 0.223821805652943\n",
      "θ2: 0.801748156975511\n"
     ]
    }
   ],
   "source": [
    "# выведем значения θ, полученные в ходе оптимизации\n",
    "print('θ0:', optimal_θ[0])\n",
    "print('θ1:', optimal_θ[1])\n",
    "print('θ2:', optimal_θ[2])"
   ]
  }
 ],
 "metadata": {
  "kernelspec": {
   "display_name": "math",
   "language": "python",
   "name": "python3"
  },
  "language_info": {
   "codemirror_mode": {
    "name": "ipython",
    "version": 3
   },
   "file_extension": ".py",
   "mimetype": "text/x-python",
   "name": "python",
   "nbconvert_exporter": "python",
   "pygments_lexer": "ipython3",
   "version": "3.10.9"
  },
  "orig_nbformat": 4
 },
 "nbformat": 4,
 "nbformat_minor": 2
}
